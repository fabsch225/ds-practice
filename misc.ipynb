{
 "cells": [
  {
   "cell_type": "code",
   "id": "initial_id",
   "metadata": {
    "collapsed": true,
    "ExecuteTime": {
     "end_time": "2025-09-13T10:01:30.792597Z",
     "start_time": "2025-09-13T10:01:30.779914Z"
    }
   },
   "source": [
    "import numpy as np\n",
    "\n",
    "Mat = np.full((12, 12), 12)\n",
    "Mat"
   ],
   "outputs": [
    {
     "data": {
      "text/plain": [
       "array([[12, 12, 12, 12, 12, 12, 12, 12, 12, 12, 12, 12],\n",
       "       [12, 12, 12, 12, 12, 12, 12, 12, 12, 12, 12, 12],\n",
       "       [12, 12, 12, 12, 12, 12, 12, 12, 12, 12, 12, 12],\n",
       "       [12, 12, 12, 12, 12, 12, 12, 12, 12, 12, 12, 12],\n",
       "       [12, 12, 12, 12, 12, 12, 12, 12, 12, 12, 12, 12],\n",
       "       [12, 12, 12, 12, 12, 12, 12, 12, 12, 12, 12, 12],\n",
       "       [12, 12, 12, 12, 12, 12, 12, 12, 12, 12, 12, 12],\n",
       "       [12, 12, 12, 12, 12, 12, 12, 12, 12, 12, 12, 12],\n",
       "       [12, 12, 12, 12, 12, 12, 12, 12, 12, 12, 12, 12],\n",
       "       [12, 12, 12, 12, 12, 12, 12, 12, 12, 12, 12, 12],\n",
       "       [12, 12, 12, 12, 12, 12, 12, 12, 12, 12, 12, 12],\n",
       "       [12, 12, 12, 12, 12, 12, 12, 12, 12, 12, 12, 12]])"
      ]
     },
     "execution_count": 2,
     "metadata": {},
     "output_type": "execute_result"
    }
   ],
   "execution_count": 2
  },
  {
   "metadata": {
    "ExecuteTime": {
     "end_time": "2025-09-13T11:33:37.904262Z",
     "start_time": "2025-09-13T11:33:37.879305Z"
    }
   },
   "cell_type": "code",
   "source": [
    "import pandas as pd\n",
    "data = pd.read_csv(\"./data/dax_performance.csv\")\n",
    "series = pd.Series(data[\"Price\"].apply(lambda s : float(s.replace(',', ''))))\n",
    "print(series.sum())\n",
    "print(series.cumsum().diff().sum() + series.iloc[0])"
   ],
   "id": "91307f2819c54785",
   "outputs": [
    {
     "name": "stdout",
     "output_type": "stream",
     "text": [
      "65831766.220000006\n",
      "65831766.219999984\n"
     ]
    }
   ],
   "execution_count": 20
  },
  {
   "metadata": {
    "ExecuteTime": {
     "end_time": "2025-09-13T11:31:11.512549Z",
     "start_time": "2025-09-13T11:31:11.383952Z"
    }
   },
   "cell_type": "code",
   "source": [
    "import numpy as np\n",
    "\n",
    "x = np.array([1, 2, 3])\n",
    "y = np.array([10, 20])\n",
    "\n",
    "xx, yy = np.meshgrid(x, y)\n",
    "\n",
    "print(\"xx:\\n\", xx)\n",
    "print(\"yy:\\n\", yy)\n",
    "\n",
    "import matplotlib.pyplot as plt\n",
    "plt.scatter(xx.flatten(), yy.flatten())\n",
    "\n",
    "print(xx.flatten())\n",
    "print(xx.ravel())\n",
    "zz = np.c_[xx.ravel(), yy.ravel()]\n",
    "print(\"zz:\\n\", zz)\n",
    "from sklearn.decomposition import PCA\n",
    "Z = PCA(n_components=1).fit_transform(zz)\n",
    "print(\"zz:\\n\", Z)\n",
    "z = Z.reshape(xx.shape)\n",
    "print(\"z:\\n\", z)\n",
    "plt.scatter(z[0, :], z[1, :])\n"
   ],
   "id": "9326ac3d73ad0f31",
   "outputs": [
    {
     "name": "stdout",
     "output_type": "stream",
     "text": [
      "xx:\n",
      " [[1 2 3]\n",
      " [1 2 3]]\n",
      "yy:\n",
      " [[10 10 10]\n",
      " [20 20 20]]\n",
      "[1 2 3 1 2 3]\n",
      "[1 2 3 1 2 3]\n",
      "zz:\n",
      " [[ 1 10]\n",
      " [ 2 10]\n",
      " [ 3 10]\n",
      " [ 1 20]\n",
      " [ 2 20]\n",
      " [ 3 20]]\n",
      "zz:\n",
      " [[-5.]\n",
      " [-5.]\n",
      " [-5.]\n",
      " [ 5.]\n",
      " [ 5.]\n",
      " [ 5.]]\n",
      "z:\n",
      " [[-5. -5. -5.]\n",
      " [ 5.  5.  5.]]\n"
     ]
    },
    {
     "data": {
      "text/plain": [
       "<matplotlib.collections.PathCollection at 0x75cf24556d80>"
      ]
     },
     "execution_count": 18,
     "metadata": {},
     "output_type": "execute_result"
    },
    {
     "data": {
      "text/plain": [
       "<Figure size 640x480 with 1 Axes>"
      ],
      "image/png": "[encoded data removed]"
     },
     "metadata": {},
     "output_type": "display_data",
     "jetTransient": {
      "display_id": null
     }
    }
   ],
   "execution_count": 18
  },
  {
   "metadata": {
    "ExecuteTime": {
     "end_time": "2025-09-13T18:13:50.222876Z",
     "start_time": "2025-09-13T18:13:50.208252Z"
    }
   },
   "cell_type": "code",
   "source": [
    "import numpy as np\n",
    "from numpy.random import default_rng\n",
    "default_rng(42).random((2,3))\n",
    "default_rng(42).random((2,3,2))"
   ],
   "id": "74ec5b0c6053e857",
   "outputs": [
    {
     "data": {
      "text/plain": [
       "array([[[0.77395605, 0.43887844],\n",
       "        [0.85859792, 0.69736803],\n",
       "        [0.09417735, 0.97562235]],\n",
       "\n",
       "       [[0.7611397 , 0.78606431],\n",
       "        [0.12811363, 0.45038594],\n",
       "        [0.37079802, 0.92676499]]])"
      ]
     },
     "execution_count": 21,
     "metadata": {},
     "output_type": "execute_result"
    }
   ],
   "execution_count": 21
  },
  {
   "metadata": {
    "ExecuteTime": {
     "end_time": "2025-09-13T18:14:34.999320Z",
     "start_time": "2025-09-13T18:14:34.995470Z"
    }
   },
   "cell_type": "code",
   "source": "np.indices((3,3))",
   "id": "ea3924a451fb1468",
   "outputs": [
    {
     "data": {
      "text/plain": [
       "array([[[0, 0, 0],\n",
       "        [1, 1, 1],\n",
       "        [2, 2, 2]],\n",
       "\n",
       "       [[0, 1, 2],\n",
       "        [0, 1, 2],\n",
       "        [0, 1, 2]]])"
      ]
     },
     "execution_count": 22,
     "metadata": {},
     "output_type": "execute_result"
    }
   ],
   "execution_count": 22
  }
 ],
 "metadata": {
  "kernelspec": {
   "display_name": "Python 3",
   "language": "python",
   "name": "python3"
  },
  "language_info": {
   "codemirror_mode": {
    "name": "ipython",
    "version": 2
   },
   "file_extension": ".py",
   "mimetype": "text/x-python",
   "name": "python",
   "nbconvert_exporter": "python",
   "pygments_lexer": "ipython2",
   "version": "2.7.6"
  }
 },
 "nbformat": 4,
 "nbformat_minor": 5
}
