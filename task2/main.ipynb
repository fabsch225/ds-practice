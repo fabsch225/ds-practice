{
 "cells": [
  {
   "cell_type": "markdown",
   "id": "9d52b580",
   "metadata": {},
   "source": [
    "Zeitreihen Vorhersage: PCA: jeweils Fortsetzen, dann Rückprojektion, Validierung mit Backtest (Train / Test Split bei 75% Zeit)\n",
    "- Datensatz: DAX oder Lufthansa Performance Daten\n",
    "- Idee: Nutze die erste Hälfte der Daten um PCA zu machen, dabei entstehen lineare Funktionen, die man fortsetzen kann\n",
    "- Damit kann der Zukünftige Kursverlauf vorhergesagt werden, und diese Vorhersage kann mit den tatsächlichen Daten verglichen werde\n",
    "\n",
    "Was hier passiert ist letztlich bloß eine lineare regression..."
   ]
  },
  {
   "cell_type": "code",
   "execution_count": 109,
   "id": "410c5eb4",
   "metadata": {},
   "outputs": [
    {
     "data": {
      "application/vnd.microsoft.datawrangler.viewer.v0+json": {
       "columns": [
        {
         "name": "index",
         "rawType": "int64",
         "type": "integer"
        },
        {
         "name": "Date",
         "rawType": "datetime64[ns]",
         "type": "datetime"
        },
        {
         "name": "Price",
         "rawType": "float64",
         "type": "float"
        },
        {
         "name": "Open",
         "rawType": "float64",
         "type": "float"
        },
        {
         "name": "High",
         "rawType": "float64",
         "type": "float"
        },
        {
         "name": "Low",
         "rawType": "float64",
         "type": "float"
        },
        {
         "name": "Vol.",
         "rawType": "float64",
         "type": "float"
        },
        {
         "name": "Change %",
         "rawType": "float64",
         "type": "float"
        }
       ],
       "ref": "b70ff591-c96b-48c1-83ae-87ce5613e798",
       "rows": [
        [
         "0",
         "2025-08-25 00:00:00",
         "24290.29",
         "24216.5",
         "24298.77",
         "24213.0",
         "7010000.0",
         "-0.003"
        ],
        [
         "1",
         "2025-08-22 00:00:00",
         "24363.09",
         "24254.81",
         "24444.41",
         "24222.54",
         "44810000.0",
         "0.0029"
        ],
        [
         "2",
         "2025-08-21 00:00:00",
         "24293.34",
         "24274.42",
         "24306.06",
         "24179.91",
         "39350000.0",
         "0.0007000000000000001"
        ],
        [
         "3",
         "2025-08-20 00:00:00",
         "24276.97",
         "24252.72",
         "24369.87",
         "24217.51",
         "44780000.0",
         "-0.006"
        ],
        [
         "4",
         "2025-08-19 00:00:00",
         "24423.07",
         "24357.23",
         "24441.0",
         "24283.55",
         "43710000.0",
         "0.0045000000000000005"
        ],
        [
         "5",
         "2025-08-18 00:00:00",
         "24314.77",
         "24313.82",
         "24336.74",
         "24245.17",
         "40220000.0",
         "-0.0018"
        ],
        [
         "6",
         "2025-08-15 00:00:00",
         "24359.3",
         "24530.7",
         "24536.11",
         "24327.6",
         "47130000.0",
         "-0.0007000000000000001"
        ],
        [
         "7",
         "2025-08-14 00:00:00",
         "24377.5",
         "24205.59",
         "24409.35",
         "24205.37",
         "47940000.0",
         "0.0079"
        ],
        [
         "8",
         "2025-08-13 00:00:00",
         "24185.59",
         "24156.51",
         "24247.39",
         "24138.79",
         "48580000.0",
         "0.0067"
        ],
        [
         "9",
         "2025-08-12 00:00:00",
         "24024.78",
         "24147.01",
         "24156.25",
         "23940.24",
         "55510000.0",
         "-0.0023"
        ],
        [
         "10",
         "2025-08-11 00:00:00",
         "24081.34",
         "24206.26",
         "24219.09",
         "24030.05",
         "41590000.0",
         "-0.0034000000000000002"
        ],
        [
         "11",
         "2025-08-08 00:00:00",
         "24162.86",
         "24165.88",
         "24268.82",
         "24095.99",
         "55850000.0",
         "-0.0012"
        ],
        [
         "12",
         "2025-08-07 00:00:00",
         "24192.5",
         "23910.87",
         "24392.04",
         "23899.46",
         "75740000.0",
         "0.011200000000000002"
        ],
        [
         "13",
         "2025-08-06 00:00:00",
         "23924.36",
         "23972.03",
         "23996.89",
         "23806.92",
         "66330000.0",
         "0.0033"
        ],
        [
         "14",
         "2025-08-05 00:00:00",
         "23846.07",
         "23914.32",
         "23979.59",
         "23785.08",
         "58130000.0",
         "0.0037"
        ],
        [
         "15",
         "2025-08-04 00:00:00",
         "23757.69",
         "23523.24",
         "23783.79",
         "23521.61",
         "50800000.0",
         "0.014199999999999999"
        ],
        [
         "16",
         "2025-08-01 00:00:00",
         "23425.97",
         "23786.91",
         "23802.73",
         "23380.94",
         "69500000.0",
         "-0.026600000000000002"
        ],
        [
         "17",
         "2025-07-31 00:00:00",
         "24065.47",
         "24340.21",
         "24433.4",
         "24039.92",
         "61020000.0",
         "-0.008100000000000001"
        ],
        [
         "18",
         "2025-07-30 00:00:00",
         "24262.22",
         "24169.26",
         "24302.77",
         "24138.21",
         "51180000.0",
         "0.0019"
        ],
        [
         "19",
         "2025-07-29 00:00:00",
         "24217.37",
         "24051.71",
         "24310.0",
         "24051.71",
         "50190000.0",
         "0.0103"
        ],
        [
         "20",
         "2025-07-28 00:00:00",
         "23970.36",
         "24424.67",
         "24444.47",
         "23942.12",
         "52660000.0",
         "-0.0102"
        ],
        [
         "21",
         "2025-07-25 00:00:00",
         "24217.5",
         "24097.33",
         "24252.59",
         "24065.19",
         "54010000.0",
         "-0.0032"
        ],
        [
         "22",
         "2025-07-24 00:00:00",
         "24295.93",
         "24502.99",
         "24514.93",
         "24235.44",
         "78040000.0",
         "0.0023"
        ],
        [
         "23",
         "2025-07-23 00:00:00",
         "24240.82",
         "24246.8",
         "24310.96",
         "24122.19",
         "80490000.0",
         "0.0083"
        ],
        [
         "24",
         "2025-07-22 00:00:00",
         "24041.9",
         "24236.09",
         "24237.41",
         "23921.83",
         "49150000.0",
         "-0.0109"
        ],
        [
         "25",
         "2025-07-21 00:00:00",
         "24307.8",
         "24309.39",
         "24335.26",
         "24191.63",
         "42780000.0",
         "0.0008"
        ],
        [
         "26",
         "2025-07-18 00:00:00",
         "24289.51",
         "24483.66",
         "24494.88",
         "24251.36",
         "47710000.0",
         "-0.0033"
        ],
        [
         "27",
         "2025-07-17 00:00:00",
         "24370.93",
         "24227.54",
         "24374.5",
         "24174.76",
         "47540000.0",
         "0.0151"
        ],
        [
         "28",
         "2025-07-16 00:00:00",
         "24009.38",
         "24011.99",
         "24207.81",
         "23968.95",
         "51690000.0",
         "-0.0021"
        ],
        [
         "29",
         "2025-07-15 00:00:00",
         "24060.29",
         "24220.52",
         "24266.81",
         "24060.29",
         "41800000.0",
         "-0.0042"
        ],
        [
         "30",
         "2025-07-14 00:00:00",
         "24160.64",
         "24038.29",
         "24168.14",
         "23975.46",
         "42200000.0",
         "-0.0039000000000000003"
        ],
        [
         "31",
         "2025-07-11 00:00:00",
         "24255.31",
         "24333.11",
         "24369.05",
         "24166.63",
         "45560000.0",
         "-0.008199999999999999"
        ],
        [
         "32",
         "2025-07-10 00:00:00",
         "24456.81",
         "24638.58",
         "24639.1",
         "24450.97",
         "58770000.0",
         "-0.0038"
        ],
        [
         "33",
         "2025-07-09 00:00:00",
         "24549.56",
         "24278.89",
         "24609.15",
         "24261.01",
         "60620000.0",
         "0.014199999999999999"
        ],
        [
         "34",
         "2025-07-08 00:00:00",
         "24206.91",
         "24135.74",
         "24244.09",
         "24063.42",
         "60800000.0",
         "0.0055000000000000005"
        ],
        [
         "35",
         "2025-07-07 00:00:00",
         "24073.67",
         "23845.88",
         "24073.67",
         "23836.58",
         "39610000.0",
         "0.012"
        ],
        [
         "36",
         "2025-07-04 00:00:00",
         "23787.45",
         "23833.14",
         "23868.93",
         "23702.65",
         "34240000.0",
         "-0.0060999999999999995"
        ],
        [
         "37",
         "2025-07-03 00:00:00",
         "23934.13",
         "23884.8",
         "23944.1",
         "23762.42",
         "46650000.0",
         "0.0060999999999999995"
        ],
        [
         "38",
         "2025-07-02 00:00:00",
         "23790.11",
         "23789.06",
         "23824.5",
         "23620.42",
         "53390000.0",
         "0.0049"
        ],
        [
         "39",
         "2025-07-01 00:00:00",
         "23673.29",
         "23966.95",
         "23978.3",
         "23671.27",
         "61850000.0",
         "-0.009899999999999999"
        ],
        [
         "40",
         "2025-06-30 00:00:00",
         "23909.61",
         "24109.15",
         "24120.82",
         "23854.31",
         "70770000.0",
         "-0.0051"
        ],
        [
         "41",
         "2025-06-27 00:00:00",
         "24033.22",
         "23864.67",
         "24040.55",
         "23784.62",
         "57580000.0",
         "0.016200000000000003"
        ],
        [
         "42",
         "2025-06-26 00:00:00",
         "23649.3",
         "23609.3",
         "23710.58",
         "23521.1",
         "51550000.0",
         "0.0064"
        ],
        [
         "43",
         "2025-06-25 00:00:00",
         "23498.33",
         "23713.24",
         "23713.24",
         "23466.73",
         "57280000.0",
         "-0.0060999999999999995"
        ],
        [
         "44",
         "2025-06-24 00:00:00",
         "23641.58",
         "23689.19",
         "23812.79",
         "23580.21",
         "63910000.0",
         "0.016"
        ],
        [
         "45",
         "2025-06-23 00:00:00",
         "23269.01",
         "23242.9",
         "23385.6",
         "23080.29",
         "50040000.0",
         "-0.0034999999999999996"
        ],
        [
         "46",
         "2025-06-20 00:00:00",
         "23350.55",
         "23197.12",
         "23481.97",
         "23187.48",
         "153410000.0",
         "0.0127"
        ],
        [
         "47",
         "2025-06-19 00:00:00",
         "23057.38",
         "23178.6",
         "23254.86",
         "23051.55",
         "41400000.0",
         "-0.011200000000000002"
        ],
        [
         "48",
         "2025-06-18 00:00:00",
         "23317.81",
         "23426.97",
         "23502.95",
         "23262.64",
         "56990000.0",
         "-0.005"
        ],
        [
         "49",
         "2025-06-17 00:00:00",
         "23434.65",
         "23495.06",
         "23550.99",
         "23315.07",
         "55140000.0",
         "-0.011200000000000002"
        ]
       ],
       "shape": {
        "columns": 7,
        "rows": 8756
       }
      },
      "text/html": [
       "<div>\n",
       "<style scoped>\n",
       "    .dataframe tbody tr th:only-of-type {\n",
       "        vertical-align: middle;\n",
       "    }\n",
       "\n",
       "    .dataframe tbody tr th {\n",
       "        vertical-align: top;\n",
       "    }\n",
       "\n",
       "    .dataframe thead th {\n",
       "        text-align: right;\n",
       "    }\n",
       "</style>\n",
       "<table border=\"1\" class=\"dataframe\">\n",
       "  <thead>\n",
       "    <tr style=\"text-align: right;\">\n",
       "      <th></th>\n",
       "      <th>Date</th>\n",
       "      <th>Price</th>\n",
       "      <th>Open</th>\n",
       "      <th>High</th>\n",
       "      <th>Low</th>\n",
       "      <th>Vol.</th>\n",
       "      <th>Change %</th>\n",
       "    </tr>\n",
       "  </thead>\n",
       "  <tbody>\n",
       "    <tr>\n",
       "      <th>0</th>\n",
       "      <td>2025-08-25</td>\n",
       "      <td>24290.29</td>\n",
       "      <td>24216.50</td>\n",
       "      <td>24298.77</td>\n",
       "      <td>24213.00</td>\n",
       "      <td>7010000.0</td>\n",
       "      <td>-0.0030</td>\n",
       "    </tr>\n",
       "    <tr>\n",
       "      <th>1</th>\n",
       "      <td>2025-08-22</td>\n",
       "      <td>24363.09</td>\n",
       "      <td>24254.81</td>\n",
       "      <td>24444.41</td>\n",
       "      <td>24222.54</td>\n",
       "      <td>44810000.0</td>\n",
       "      <td>0.0029</td>\n",
       "    </tr>\n",
       "    <tr>\n",
       "      <th>2</th>\n",
       "      <td>2025-08-21</td>\n",
       "      <td>24293.34</td>\n",
       "      <td>24274.42</td>\n",
       "      <td>24306.06</td>\n",
       "      <td>24179.91</td>\n",
       "      <td>39350000.0</td>\n",
       "      <td>0.0007</td>\n",
       "    </tr>\n",
       "    <tr>\n",
       "      <th>3</th>\n",
       "      <td>2025-08-20</td>\n",
       "      <td>24276.97</td>\n",
       "      <td>24252.72</td>\n",
       "      <td>24369.87</td>\n",
       "      <td>24217.51</td>\n",
       "      <td>44780000.0</td>\n",
       "      <td>-0.0060</td>\n",
       "    </tr>\n",
       "    <tr>\n",
       "      <th>4</th>\n",
       "      <td>2025-08-19</td>\n",
       "      <td>24423.07</td>\n",
       "      <td>24357.23</td>\n",
       "      <td>24441.00</td>\n",
       "      <td>24283.55</td>\n",
       "      <td>43710000.0</td>\n",
       "      <td>0.0045</td>\n",
       "    </tr>\n",
       "    <tr>\n",
       "      <th>...</th>\n",
       "      <td>...</td>\n",
       "      <td>...</td>\n",
       "      <td>...</td>\n",
       "      <td>...</td>\n",
       "      <td>...</td>\n",
       "      <td>...</td>\n",
       "      <td>...</td>\n",
       "    </tr>\n",
       "    <tr>\n",
       "      <th>8751</th>\n",
       "      <td>1990-01-26</td>\n",
       "      <td>1798.22</td>\n",
       "      <td>1798.22</td>\n",
       "      <td>1798.22</td>\n",
       "      <td>1798.22</td>\n",
       "      <td>NaN</td>\n",
       "      <td>0.0037</td>\n",
       "    </tr>\n",
       "    <tr>\n",
       "      <th>8752</th>\n",
       "      <td>1990-01-25</td>\n",
       "      <td>1791.52</td>\n",
       "      <td>1791.52</td>\n",
       "      <td>1791.52</td>\n",
       "      <td>1791.52</td>\n",
       "      <td>NaN</td>\n",
       "      <td>0.0228</td>\n",
       "    </tr>\n",
       "    <tr>\n",
       "      <th>8753</th>\n",
       "      <td>1990-01-24</td>\n",
       "      <td>1751.62</td>\n",
       "      <td>1751.62</td>\n",
       "      <td>1751.62</td>\n",
       "      <td>1751.62</td>\n",
       "      <td>NaN</td>\n",
       "      <td>-0.0187</td>\n",
       "    </tr>\n",
       "    <tr>\n",
       "      <th>8754</th>\n",
       "      <td>1990-01-23</td>\n",
       "      <td>1785.00</td>\n",
       "      <td>1785.00</td>\n",
       "      <td>1785.00</td>\n",
       "      <td>1785.00</td>\n",
       "      <td>NaN</td>\n",
       "      <td>-0.0012</td>\n",
       "    </tr>\n",
       "    <tr>\n",
       "      <th>8755</th>\n",
       "      <td>1990-01-22</td>\n",
       "      <td>1787.08</td>\n",
       "      <td>1787.08</td>\n",
       "      <td>1787.08</td>\n",
       "      <td>1787.08</td>\n",
       "      <td>NaN</td>\n",
       "      <td>0.0066</td>\n",
       "    </tr>\n",
       "  </tbody>\n",
       "</table>\n",
       "<p>8756 rows × 7 columns</p>\n",
       "</div>"
      ],
      "text/plain": [
       "           Date     Price      Open      High       Low        Vol.  Change %\n",
       "0    2025-08-25  24290.29  24216.50  24298.77  24213.00   7010000.0   -0.0030\n",
       "1    2025-08-22  24363.09  24254.81  24444.41  24222.54  44810000.0    0.0029\n",
       "2    2025-08-21  24293.34  24274.42  24306.06  24179.91  39350000.0    0.0007\n",
       "3    2025-08-20  24276.97  24252.72  24369.87  24217.51  44780000.0   -0.0060\n",
       "4    2025-08-19  24423.07  24357.23  24441.00  24283.55  43710000.0    0.0045\n",
       "...         ...       ...       ...       ...       ...         ...       ...\n",
       "8751 1990-01-26   1798.22   1798.22   1798.22   1798.22         NaN    0.0037\n",
       "8752 1990-01-25   1791.52   1791.52   1791.52   1791.52         NaN    0.0228\n",
       "8753 1990-01-24   1751.62   1751.62   1751.62   1751.62         NaN   -0.0187\n",
       "8754 1990-01-23   1785.00   1785.00   1785.00   1785.00         NaN   -0.0012\n",
       "8755 1990-01-22   1787.08   1787.08   1787.08   1787.08         NaN    0.0066\n",
       "\n",
       "[8756 rows x 7 columns]"
      ]
     },
     "execution_count": 109,
     "metadata": {},
     "output_type": "execute_result"
    }
   ],
   "source": [
    "import pandas as pd\n",
    "from sklearn.decomposition import PCA\n",
    "\n",
    "dax = pd.read_csv(\"../data/dax_performance.csv\", )\n",
    "for col in [\"Price\", \"Open\", \"High\", \"Low\"]:\n",
    "    dax[col] = dax[col].str.replace(\",\", \"\").astype(float)\n",
    "\n",
    "dax[\"Vol.\"] = dax[\"Vol.\"].str.replace(\"M\", \"\").astype(float) * 1e6\n",
    "dax[\"Change %\"] = dax[\"Change %\"].str.replace(\"%\", \"\").astype(float) / 100.0\n",
    "dax[\"Date\"] = pd.to_datetime(dax[\"Date\"], format=\"%m/%d/%Y\")\n",
    "\n",
    "dax"
   ]
  },
  {
   "cell_type": "code",
   "execution_count": 65,
   "id": "69da3877",
   "metadata": {},
   "outputs": [
    {
     "name": "stdout",
     "output_type": "stream",
     "text": [
      "[[ 0.8067875   0.59084171]\n",
      " [ 0.59084171 -0.8067875 ]]\n",
      "[0.96341139 0.03658861]\n"
     ]
    },
    {
     "name": "stderr",
     "output_type": "stream",
     "text": [
      "C:\\Users\\fschuller\\AppData\\Local\\Temp\\ipykernel_12640\\2431746504.py:15: FutureWarning: Calling float on a single element Series is deprecated and will raise a TypeError in the future. Use float(ser.iloc[0]) instead\n",
      "  pc1_pred = m * dax[[\"day\"]] + float(dax[dax[\"day\"] == 0][\"Price\"])\n"
     ]
    },
    {
     "data": {
      "text/plain": [
       "[<matplotlib.lines.Line2D at 0x1c810109950>]"
      ]
     },
     "execution_count": 65,
     "metadata": {},
     "output_type": "execute_result"
    },
    {
     "data": {
      "image/png": "[encoded data removed]",
      "text/plain": [
       "<Figure size 640x480 with 1 Axes>"
      ]
     },
     "metadata": {},
     "output_type": "display_data"
    }
   ],
   "source": [
    "import numpy as np\n",
    "import matplotlib.pyplot as plt\n",
    "\n",
    "# für den vergleich mit der geometrischen Brownschen Bewegung später\n",
    "dax[\"logreturn\"] = np.append(np.diff(np.log(dax[\"Price\"].to_numpy())), 0)\n",
    "\n",
    "start_date = dax[\"Date\"][dax.shape[0] - 1]\n",
    "dax[\"day\"] = (dax[\"Date\"] - start_date).dt.days\n",
    "\n",
    "pca = PCA(n_components=2).fit(dax[[\"Price\", \"day\"]])\n",
    "print(pca.components_)\n",
    "print(pca.explained_variance_ratio_)\n",
    "\n",
    "m = pca.components_[0][1] / pca.components_[0][0]\n",
    "pc1_pred = m * dax[[\"day\"]] + float(dax[dax[\"day\"] == 0][\"Price\"])\n",
    "\n",
    "plt.plot(dax[[\"day\"]], dax[[\"Price\"]])\n",
    "\n",
    "plt.plot(dax[[\"day\"]], pc1_pred)"
   ]
  },
  {
   "cell_type": "code",
   "execution_count": 83,
   "id": "a59858ce",
   "metadata": {},
   "outputs": [
    {
     "name": "stdout",
     "output_type": "stream",
     "text": [
      "[[17314.0109357   4744.22744386]\n",
      " [17370.97254079  4789.66108278]\n",
      " [17314.10827075  4749.25666109]\n",
      " ...\n",
      " [-8549.07604556  1913.25832201]\n",
      " [-8522.73632041  1933.78740575]\n",
      " [-8521.64904412  1935.82314401]]\n"
     ]
    },
    {
     "data": {
      "text/plain": [
       "[<matplotlib.lines.Line2D at 0x1c8118e9590>]"
      ]
     },
     "execution_count": 83,
     "metadata": {},
     "output_type": "execute_result"
    },
    {
     "data": {
      "image/png": "[encoded data removed]",
      "text/plain": [
       "<Figure size 640x480 with 1 Axes>"
      ]
     },
     "metadata": {},
     "output_type": "display_data"
    }
   ],
   "source": [
    "reduced = pca.transform(dax[[\"Price\", \"day\"]])\n",
    "\n",
    "print(reduced)\n",
    "\n",
    "pred = pca.inverse_transform(reduced)\n",
    "\n",
    "plt.plot(dax[[\"day\"]], pred.transpose()[0])\n",
    "plt.plot(dax[[\"day\"]], pred.transpose()[1])"
   ]
  },
  {
   "cell_type": "code",
   "execution_count": 108,
   "id": "d1e81cb4",
   "metadata": {},
   "outputs": [
    {
     "data": {
      "image/png": "[encoded data removed]",
      "text/plain": [
       "<Figure size 640x480 with 1 Axes>"
      ]
     },
     "metadata": {},
     "output_type": "display_data"
    },
    {
     "data": {
      "text/plain": [
       "[<matplotlib.lines.Line2D at 0x1c817043dd0>]"
      ]
     },
     "execution_count": 108,
     "metadata": {},
     "output_type": "execute_result"
    },
    {
     "data": {
      "image/png": "[encoded data removed]",
      "text/plain": [
       "<Figure size 640x480 with 1 Axes>"
      ]
     },
     "metadata": {},
     "output_type": "display_data"
    }
   ],
   "source": [
    "from sklearn.linear_model import LinearRegression\n",
    "\n",
    "t = np.arange(len(reduced)).reshape(-1, 1)\n",
    "\n",
    "models = []\n",
    "for i in range(reduced.shape[1]):\n",
    "    y = reduced[:, i]\n",
    "    reg = LinearRegression().fit(t, y)\n",
    "    models.append(reg)\n",
    "\n",
    "\n",
    "h = 1000\n",
    "t_future = np.arange(len(reduced), len(reduced)+h).reshape(-1, 1)\n",
    "\n",
    "dax_pca_pred_new = np.zeros((h, reduced.shape[1]))\n",
    "for i, reg in enumerate(models):\n",
    "    dax_pca_pred_new[:, i] = reg.predict(t_future)\n",
    "\n",
    "\n",
    "dax_pca_pred = np.append(reduced, dax_pca_pred_new, axis=0)\n",
    "\n",
    "future = pca.inverse_transform(dax_pca_pred)\n",
    "\n",
    "plt.plot(pred.transpose()[0])\n",
    "\n",
    "plt.show()\n",
    "\n",
    "plt.plot(future.transpose()[0])\n",
    "plt.plot(future.transpose()[1])"
   ]
  }
 ],
 "metadata": {
  "kernelspec": {
   "display_name": "base",
   "language": "python",
   "name": "python3"
  },
  "language_info": {
   "codemirror_mode": {
    "name": "ipython",
    "version": 3
   },
   "file_extension": ".py",
   "mimetype": "text/x-python",
   "name": "python",
   "nbconvert_exporter": "python",
   "pygments_lexer": "ipython3",
   "version": "3.11.5"
  }
 },
 "nbformat": 4,
 "nbformat_minor": 5
}
